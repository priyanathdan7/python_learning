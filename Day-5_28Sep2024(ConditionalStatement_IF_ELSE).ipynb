{
 "cells": [
  {
   "cell_type": "code",
   "execution_count": 2,
   "metadata": {},
   "outputs": [
    {
     "name": "stdout",
     "output_type": "stream",
     "text": [
      "Invslid credentials\n"
     ]
    }
   ],
   "source": [
    "email = input(\"Enter your email id : \")\n",
    "password = input(\"Enter your password : \")\n",
    "if (email == 'priyanath@gmail.com' and password == 'Password1') :\n",
    "    print(\"Login successful\")\n",
    "else :\n",
    "    print (\"Invalid credentials\")\n"
   ]
  },
  {
   "cell_type": "code",
   "execution_count": 3,
   "metadata": {},
   "outputs": [
    {
     "name": "stdout",
     "output_type": "stream",
     "text": [
      "Invalid credentials 1\n"
     ]
    }
   ],
   "source": [
    "email = input(\"Enter your email id : \")\n",
    "password = input(\"Enter your password : \")\n",
    "if (email == 'priyanath@gmail.com' and password == 'Password1') :\n",
    "    print(\"Login successful\")\n",
    "elif (email == 'priyanath@gmail.com' and password != 'Password1') :\n",
    "    print (\"Invalid credentials 1\")\n",
    "elif (email != 'priyanath@gmail.com' and password == 'Password1') :\n",
    "    print (\"Invalid credentials 2\")\n",
    "else :\n",
    "    print (\"Invalid credentials 3\")"
   ]
  },
  {
   "cell_type": "code",
   "execution_count": 18,
   "metadata": {},
   "outputs": [
    {
     "name": "stdout",
     "output_type": "stream",
     "text": [
      "Invalid credentials 1\n",
      "Login worked in 2nd time\n"
     ]
    }
   ],
   "source": [
    "email = input(\"Enter your email id : \")\n",
    "password = input(\"Enter your password : \")\n",
    "if (email == 'priyanath@gmail.com' and password == 'Password1') :\n",
    "    print(\"Login successful\")\n",
    "elif (email == 'priyanath@gmail.com' and password != 'Password1') :\n",
    "    print (\"Invalid credentials 1\")\n",
    "    password = input(\"Enter your password : \")\n",
    "    if password == 'Password1' :\n",
    "        print (\"Login worked in 2nd time\")\n",
    "    else :\n",
    "        print (\"Login is failed for the 2nd time\")\n",
    "else :\n",
    "    print (\"Invalid credentials 2\")"
   ]
  },
  {
   "cell_type": "code",
   "execution_count": 6,
   "metadata": {},
   "outputs": [
    {
     "name": "stdout",
     "output_type": "stream",
     "text": [
      "The number is neither positive nor negative\n"
     ]
    }
   ],
   "source": [
    "a = int(input(\"Enter the number : \"))\n",
    "if a == 0 :\n",
    "    print(\"The number is neither positive nor negative\")\n",
    "elif a > 0 :\n",
    "    print (\"The number is positive\")\n",
    "else :\n",
    "    print (\"The number is negative\")"
   ]
  },
  {
   "cell_type": "code",
   "execution_count": 10,
   "metadata": {},
   "outputs": [
    {
     "name": "stdout",
     "output_type": "stream",
     "text": [
      "Neither positive nor negative\n"
     ]
    }
   ],
   "source": [
    "a = int(input(\"Enter a number : \"))\n",
    "if a == a > 0 :\n",
    "    print (\"Positive number\")\n",
    "elif a == a < 0 :\n",
    "    print (\"Negative number\")\n",
    "else :\n",
    "    print (\"Neither positive nor negative\")"
   ]
  },
  {
   "cell_type": "code",
   "execution_count": 13,
   "metadata": {},
   "outputs": [
    {
     "name": "stdout",
     "output_type": "stream",
     "text": [
      "Neither positive nor negative\n"
     ]
    }
   ],
   "source": [
    "a = int(input(\"Enter a number : \"))\n",
    "if a > 0 :\n",
    "    print (\"Positive number\")\n",
    "elif a < 0 :\n",
    "    print (\"Negative number\")\n",
    "else :\n",
    "    print (\"Neither positive nor negative\")"
   ]
  },
  {
   "cell_type": "code",
   "execution_count": null,
   "metadata": {},
   "outputs": [],
   "source": [
    "a = int(input(\"Enter a :\"))\n",
    "b = int(input(\"Enter b :\"))\n",
    "c = int(input(\"Enter c :\"))\n",
    "if a < b and a < c :\n",
    "    print (\"a is the smallest\", a)\n",
    "elif b < a and b < c :\n",
    "    print (\"b is the smallest\", b)\n",
    "else :\n",
    "    print (\"c is the smallest\", c)"
   ]
  },
  {
   "cell_type": "code",
   "execution_count": 14,
   "metadata": {},
   "outputs": [
    {
     "name": "stdout",
     "output_type": "stream",
     "text": [
      "c is the smallest -3\n"
     ]
    }
   ],
   "source": [
    "a = int(input(\"Enter a :\"))\n",
    "b = int(input(\"Enter b :\"))\n",
    "c = int(input(\"Enter c :\"))\n",
    "if a < b and a < c :\n",
    "    print (\"a is the smallest\", a)\n",
    "elif b < a and b < c :\n",
    "    print (\"b is the smallest\", b)\n",
    "else :\n",
    "    print (\"c is the smallest\", c)"
   ]
  },
  {
   "cell_type": "code",
   "execution_count": 17,
   "metadata": {},
   "outputs": [
    {
     "name": "stdout",
     "output_type": "stream",
     "text": [
      "c is the smallest 9\n"
     ]
    }
   ],
   "source": [
    "a = int(input(\"Enter a :\"))\n",
    "b = int(input(\"Enter b :\"))\n",
    "c = int(input(\"Enter c :\"))\n",
    "if a < b and a < c :\n",
    "    print (\"a is the smallest\", a)\n",
    "elif b < c :\n",
    "    print (\"b is the smallest\", b)\n",
    "else :\n",
    "    print (\"c is the smallest\", c)"
   ]
  },
  {
   "cell_type": "code",
   "execution_count": 20,
   "metadata": {},
   "outputs": [
    {
     "name": "stdout",
     "output_type": "stream",
     "text": [
      "Hi\n"
     ]
    }
   ],
   "source": [
    "a = int(input(\"Enter the number : \"))\n",
    "if a/7 :\n",
    "    print (\"Hi\")\n",
    "else :\n",
    "    print (\"Bye\")"
   ]
  },
  {
   "cell_type": "code",
   "execution_count": 22,
   "metadata": {},
   "outputs": [
    {
     "name": "stdout",
     "output_type": "stream",
     "text": [
      "Hi\n"
     ]
    }
   ],
   "source": [
    "a = int(input(\"Enter the number : \"))\n",
    "if a%7 == 0 :\n",
    "    print (\"Hi\")\n",
    "else :\n",
    "    print (\"Bye\")"
   ]
  },
  {
   "cell_type": "code",
   "execution_count": 33,
   "metadata": {},
   "outputs": [
    {
     "name": "stdout",
     "output_type": "stream",
     "text": [
      "Odd\n"
     ]
    }
   ],
   "source": [
    "a = int(input(\"Enter the number : \"))\n",
    "if a == 0 :\n",
    "    print (\"Neither\")\n",
    "elif a%2 == 0 :\n",
    "    print (\"Even\")\n",
    "else :\n",
    "    print (\"Odd\")\n"
   ]
  },
  {
   "cell_type": "code",
   "execution_count": 34,
   "metadata": {},
   "outputs": [
    {
     "name": "stdout",
     "output_type": "stream",
     "text": [
      "Even\n"
     ]
    }
   ],
   "source": [
    "a = int(input(\"Enter the number : \"))\n",
    "if a % 2 == 0 :\n",
    "    print (\"Even\")\n",
    "elif a == 0 :\n",
    "    print (\"Neither\")\n",
    "else :\n",
    "    print (\"Odd\")"
   ]
  },
  {
   "cell_type": "code",
   "execution_count": 38,
   "metadata": {},
   "outputs": [
    {
     "name": "stdout",
     "output_type": "stream",
     "text": [
      "Even\n"
     ]
    }
   ],
   "source": [
    "a = int(input(\"Enter the number : \"))\n",
    "if a == 0 :\n",
    "    print (\"Neither\")\n",
    "elif a % 2 == 0 :\n",
    "    print (\"Even\")\n",
    "else :\n",
    "    print (\"Odd\")"
   ]
  }
 ],
 "metadata": {
  "kernelspec": {
   "display_name": "Python 3",
   "language": "python",
   "name": "python3"
  },
  "language_info": {
   "codemirror_mode": {
    "name": "ipython",
    "version": 3
   },
   "file_extension": ".py",
   "mimetype": "text/x-python",
   "name": "python",
   "nbconvert_exporter": "python",
   "pygments_lexer": "ipython3",
   "version": "3.12.6"
  }
 },
 "nbformat": 4,
 "nbformat_minor": 2
}
